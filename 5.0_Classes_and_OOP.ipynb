{
 "cells": [
  {
   "cell_type": "markdown",
   "metadata": {},
   "source": [
    "## Classes and Object Oriented Programming\n",
    "\n",
    "**Programming is all about organizing and manupliating data.** \n",
    "\n",
    "The idea of object oriented programming is to reorganize complex pieces of data into **objects** that we can define, write functions (methods) for, and use to model things we want our program to do.\n",
    "\n",
    "### Principles\n",
    "\n",
    " More formally, OOP is built on 3 principles. **Encapsulation**, **Polymorphism**, and **Inheritance**.\n",
    " \n",
    " **Encapsulation** - Also refered to as Data Abstraction. Encapsulation is \"hiding data,\" or restricting access to data. In Java, this is done by the keywords public, private, and protected. \n",
    " \n",
    " In Python, we don't have these keyword. Instead we have conventions that programmers use. If a variable name is prefixed with an underscore\n",
    " \n",
    "     _variable = 0\n",
    "     \n",
    "This indicates that the programmer that created this variable intends for it to be private/protected. You can think of this as Java's protected \n",
    "\n",
    "Python also has something called **name mangling**. If you create a variable with 2 underscores, you need to refer to it with the \\_classname as a prefix\n",
    "\n",
    "    __variable = 0\n",
    "    _classname__variable\n",
    "    > 0\n",
    "    \n",
    "You can think of this as Java's private \n",
    "\n",
    "For more information about this, read the [docs](https://docs.python.org/2/tutorial/classes.html#private-variables-and-class-local-references)\n",
    "\n",
    "**Inheritance** - Python allows for subclassing. This will be covered later on. Method overriding is supported.\n",
    "\n",
    "**Polymorphism** - Python actually does not have built in method overloading - That is, Python doesn't let you have methods with the same name in a class. However there are other ways of getting around that.\n",
    "\n",
    "### Python as an OOP language\n",
    "\n",
    "Python is \"object supported.\" This means that it is not strictly object oriented, but has it as a feature if necessary. \n",
    "\n",
    "Many of the things you have been working with, such as lists, dictionaries, strings, etc. are objects. In fact, almost everything in python is an object!\n"
   ]
  },
  {
   "cell_type": "markdown",
   "metadata": {},
   "source": [
    "### Syntax"
   ]
  },
  {
   "cell_type": "code",
   "execution_count": 1,
   "metadata": {
    "collapsed": true
   },
   "outputs": [],
   "source": [
    "# Creating a class\n",
    "class Coffee(object):\n",
    "    \n",
    "    cups = 0 #class variable. This belongs to the class\n",
    "    \n",
    "    # __init__ is (basically) a constructor.\n",
    "    def __init__(self, name, beans):\n",
    "        self.name = name # These are instance variables. these belong to the object\n",
    "        self.beans = beans\n",
    "        type(self).cups += 1\n",
    "        \n",
    "     # Instance method\n",
    "    def drink(self):\n",
    "        print(\"I am drinking a %s made with %s beans\" % (self.name, self.beans))\n",
    "        \n",
    "    @classmethod #use decorator @staticmethod to create static methods\n",
    "    def number_of_cups(cls):\n",
    "        return cls.cupsT\n",
    "        "
   ]
  },
  {
   "cell_type": "code",
   "execution_count": 2,
   "metadata": {
    "collapsed": true
   },
   "outputs": [],
   "source": [
    "my_coffee = Coffee(\"Latte\", \"Espresso\")"
   ]
  },
  {
   "cell_type": "code",
   "execution_count": 3,
   "metadata": {},
   "outputs": [
    {
     "name": "stdout",
     "output_type": "stream",
     "text": [
      "I am drinking a Latte made with Espresso beans\n"
     ]
    }
   ],
   "source": [
    "my_coffee.drink()"
   ]
  },
  {
   "cell_type": "code",
   "execution_count": 4,
   "metadata": {},
   "outputs": [
    {
     "ename": "AttributeError",
     "evalue": "type object 'Coffee' has no attribute 'cupsT'",
     "output_type": "error",
     "traceback": [
      "\u001b[0;31m---------------------------------------------------------------------------\u001b[0m",
      "\u001b[0;31mAttributeError\u001b[0m                            Traceback (most recent call last)",
      "\u001b[0;32m<ipython-input-4-7f88610e4caf>\u001b[0m in \u001b[0;36m<module>\u001b[0;34m()\u001b[0m\n\u001b[0;32m----> 1\u001b[0;31m \u001b[0mmy_coffee\u001b[0m\u001b[0;34m.\u001b[0m\u001b[0mnumber_of_cups\u001b[0m\u001b[0;34m(\u001b[0m\u001b[0;34m)\u001b[0m\u001b[0;34m\u001b[0m\u001b[0m\n\u001b[0m",
      "\u001b[0;32m<ipython-input-1-a2f767760774>\u001b[0m in \u001b[0;36mnumber_of_cups\u001b[0;34m(cls)\u001b[0m\n\u001b[1;32m     16\u001b[0m     \u001b[0;34m@\u001b[0m\u001b[0mclassmethod\u001b[0m \u001b[0;31m#use decorator @staticmethod to create static methods\u001b[0m\u001b[0;34m\u001b[0m\u001b[0m\n\u001b[1;32m     17\u001b[0m     \u001b[0;32mdef\u001b[0m \u001b[0mnumber_of_cups\u001b[0m\u001b[0;34m(\u001b[0m\u001b[0mcls\u001b[0m\u001b[0;34m)\u001b[0m\u001b[0;34m:\u001b[0m\u001b[0;34m\u001b[0m\u001b[0m\n\u001b[0;32m---> 18\u001b[0;31m         \u001b[0;32mreturn\u001b[0m \u001b[0mcls\u001b[0m\u001b[0;34m.\u001b[0m\u001b[0mcupsT\u001b[0m\u001b[0;34m\u001b[0m\u001b[0m\n\u001b[0m\u001b[1;32m     19\u001b[0m \u001b[0;34m\u001b[0m\u001b[0m\n",
      "\u001b[0;31mAttributeError\u001b[0m: type object 'Coffee' has no attribute 'cupsT'"
     ]
    }
   ],
   "source": [
    "my_coffee.number_of_cups()"
   ]
  },
  {
   "cell_type": "code",
   "execution_count": null,
   "metadata": {
    "collapsed": true
   },
   "outputs": [],
   "source": [
    "# Creating a subclasss - \n",
    "class Starbucks_Coffee(Coffee):\n",
    "    \n",
    "    def __init__(self, name, beans, cost):\n",
    "        Coffee.__init__(self, name, beans)\n",
    "        self.cost = cost    \n",
    "    \n",
    "    def buy_coffee(self):\n",
    "        print(\"Your coffee costs $%s\" % self.cost)\n",
    "         "
   ]
  },
  {
   "cell_type": "code",
   "execution_count": null,
   "metadata": {
    "collapsed": true
   },
   "outputs": [],
   "source": [
    "not_my_coffee = Starbucks_Coffee(\"Caramel Macchiato\", \"Espresso\", 5.0)"
   ]
  },
  {
   "cell_type": "code",
   "execution_count": null,
   "metadata": {},
   "outputs": [],
   "source": [
    "not_my_coffee.drink()"
   ]
  },
  {
   "cell_type": "code",
   "execution_count": null,
   "metadata": {},
   "outputs": [],
   "source": [
    "not_my_coffee.buy_coffee()"
   ]
  },
  {
   "cell_type": "code",
   "execution_count": null,
   "metadata": {},
   "outputs": [],
   "source": [
    "not_my_coffee.number_of_cups()"
   ]
  }
 ],
 "metadata": {
  "kernelspec": {
   "display_name": "Python 3",
   "language": "python",
   "name": "python3"
  },
  "language_info": {
   "codemirror_mode": {
    "name": "ipython",
    "version": 3
   },
   "file_extension": ".py",
   "mimetype": "text/x-python",
   "name": "python",
   "nbconvert_exporter": "python",
   "pygments_lexer": "ipython3",
   "version": "3.6.2"
  }
 },
 "nbformat": 4,
 "nbformat_minor": 2
}
